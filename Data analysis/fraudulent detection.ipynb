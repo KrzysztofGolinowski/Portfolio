{
 "cells": [
  {
   "cell_type": "markdown",
   "metadata": {},
   "source": [
    "# Ravelin Data Science Test\n",
    "## Fraudulent detection\n",
    "### source: https://github.com/unravelin/code-test-data-science "
   ]
  },
  {
   "cell_type": "markdown",
   "metadata": {},
   "source": [
    "### packages import"
   ]
  },
  {
   "cell_type": "code",
   "execution_count": 2,
   "metadata": {},
   "outputs": [],
   "source": [
    "import pandas as pd\n",
    "\n",
    "import matplotlib.pyplot as plt\n",
    "import matplotlib.cm as cm\n",
    "from matplotlib.colors import Normalize\n",
    "\n",
    "from sklearn.model_selection import train_test_split\n",
    "from sklearn.ensemble import RandomForestClassifier\n",
    "from sklearn.metrics import confusion_matrix\n",
    "from sklearn.tree import export_text"
   ]
  },
  {
   "cell_type": "markdown",
   "metadata": {},
   "source": [
    "## The data"
   ]
  },
  {
   "cell_type": "markdown",
   "metadata": {},
   "source": [
    "Provided data set is in json format. It contains profiles of customers from fictional ecommerce company. The profiles contain information about the customer, their order, their transaction, what peyments methods they used and whether the customer is fraudulent or not."
   ]
  },
  {
   "cell_type": "markdown",
   "metadata": {},
   "source": [
    "# 1. Reading the data\n",
    "our data will be stored in 4 DataFrames: \n",
    "- customers (basic info about customer), \n",
    "- orders (all orders with attached customer id)\n",
    "- payments (all payments methods attached to each customer account)\n",
    "- transactions"
   ]
  },
  {
   "cell_type": "code",
   "execution_count": 3,
   "metadata": {},
   "outputs": [],
   "source": [
    "data = pd.read_json('./customers.txt', lines=True)\n",
    "\n",
    "customers = pd.DataFrame()\n",
    "orders = pd.DataFrame()\n",
    "payments = pd.DataFrame()\n",
    "transactions = pd.DataFrame()\n",
    "\n",
    "for i, row in data.iterrows():\n",
    "    c = pd.DataFrame.from_dict([row.customer])\n",
    "    c['fraudulent'] = row.fraudulent\n",
    "    c['id'] = i\n",
    "    customers = customers.append(c, ignore_index=True)\n",
    "    \n",
    "    o = pd.DataFrame.from_records(row.orders)\n",
    "    o['id'] = i\n",
    "    orders = orders.append(o, ignore_index=True, sort=True)\n",
    "    \n",
    "    p = pd.DataFrame.from_records(row.paymentMethods)\n",
    "    p['id'] = i\n",
    "    payments = payments.append(p, ignore_index=True, sort=True)\n",
    "    \n",
    "    t = pd.DataFrame.from_records(row.transactions)\n",
    "    t['id'] = i\n",
    "    transactions = transactions.append(t, ignore_index=True, sort=True)"
   ]
  },
  {
   "cell_type": "markdown",
   "metadata": {},
   "source": [
    "## samples of the data"
   ]
  },
  {
   "cell_type": "code",
   "execution_count": 4,
   "metadata": {},
   "outputs": [
    {
     "data": {
      "text/html": [
       "<div>\n",
       "<style scoped>\n",
       "    .dataframe tbody tr th:only-of-type {\n",
       "        vertical-align: middle;\n",
       "    }\n",
       "\n",
       "    .dataframe tbody tr th {\n",
       "        vertical-align: top;\n",
       "    }\n",
       "\n",
       "    .dataframe thead th {\n",
       "        text-align: right;\n",
       "    }\n",
       "</style>\n",
       "<table border=\"1\" class=\"dataframe\">\n",
       "  <thead>\n",
       "    <tr style=\"text-align: right;\">\n",
       "      <th></th>\n",
       "      <th>customerBillingAddress</th>\n",
       "      <th>customerDevice</th>\n",
       "      <th>customerEmail</th>\n",
       "      <th>customerIPAddress</th>\n",
       "      <th>customerPhone</th>\n",
       "      <th>fraudulent</th>\n",
       "      <th>id</th>\n",
       "    </tr>\n",
       "  </thead>\n",
       "  <tbody>\n",
       "    <tr>\n",
       "      <th>41</th>\n",
       "      <td>1862 Melanie Islands Apt. 152\\nNorth Williamha...</td>\n",
       "      <td>czrv4aped9e2ndgv89b5</td>\n",
       "      <td>smithtiffany@davis-perkins.com</td>\n",
       "      <td>141.224.72.49</td>\n",
       "      <td>384.291.0196x66623</td>\n",
       "      <td>False</td>\n",
       "      <td>41</td>\n",
       "    </tr>\n",
       "    <tr>\n",
       "      <th>132</th>\n",
       "      <td>USNS Ramos\\nFPO AE 16248</td>\n",
       "      <td>jy8lgca2hto8r58zw5oo</td>\n",
       "      <td>cindydeleon@yahoo.com</td>\n",
       "      <td>2ebe:381c:151a:9df5:65f5:808f:103d:d128</td>\n",
       "      <td>01524024300</td>\n",
       "      <td>False</td>\n",
       "      <td>132</td>\n",
       "    </tr>\n",
       "    <tr>\n",
       "      <th>128</th>\n",
       "      <td>9205 Jeremiah Field Suite 815\\nEast Christophe...</td>\n",
       "      <td>1djsf7mffce2xhvsf139</td>\n",
       "      <td>brianthomas@yahoo.com</td>\n",
       "      <td>219.222.4.152</td>\n",
       "      <td>04061905118</td>\n",
       "      <td>False</td>\n",
       "      <td>128</td>\n",
       "    </tr>\n",
       "  </tbody>\n",
       "</table>\n",
       "</div>"
      ],
      "text/plain": [
       "                                customerBillingAddress        customerDevice  \\\n",
       "41   1862 Melanie Islands Apt. 152\\nNorth Williamha...  czrv4aped9e2ndgv89b5   \n",
       "132                           USNS Ramos\\nFPO AE 16248  jy8lgca2hto8r58zw5oo   \n",
       "128  9205 Jeremiah Field Suite 815\\nEast Christophe...  1djsf7mffce2xhvsf139   \n",
       "\n",
       "                      customerEmail                        customerIPAddress  \\\n",
       "41   smithtiffany@davis-perkins.com                            141.224.72.49   \n",
       "132           cindydeleon@yahoo.com  2ebe:381c:151a:9df5:65f5:808f:103d:d128   \n",
       "128           brianthomas@yahoo.com                            219.222.4.152   \n",
       "\n",
       "          customerPhone  fraudulent   id  \n",
       "41   384.291.0196x66623       False   41  \n",
       "132         01524024300       False  132  \n",
       "128         04061905118       False  128  "
      ]
     },
     "execution_count": 4,
     "metadata": {},
     "output_type": "execute_result"
    }
   ],
   "source": [
    "customers.sample(3)"
   ]
  },
  {
   "cell_type": "code",
   "execution_count": 5,
   "metadata": {},
   "outputs": [
    {
     "data": {
      "text/html": [
       "<div>\n",
       "<style scoped>\n",
       "    .dataframe tbody tr th:only-of-type {\n",
       "        vertical-align: middle;\n",
       "    }\n",
       "\n",
       "    .dataframe tbody tr th {\n",
       "        vertical-align: top;\n",
       "    }\n",
       "\n",
       "    .dataframe thead th {\n",
       "        text-align: right;\n",
       "    }\n",
       "</style>\n",
       "<table border=\"1\" class=\"dataframe\">\n",
       "  <thead>\n",
       "    <tr style=\"text-align: right;\">\n",
       "      <th></th>\n",
       "      <th>id</th>\n",
       "      <th>orderAmount</th>\n",
       "      <th>orderId</th>\n",
       "      <th>orderShippingAddress</th>\n",
       "      <th>orderState</th>\n",
       "    </tr>\n",
       "  </thead>\n",
       "  <tbody>\n",
       "    <tr>\n",
       "      <th>86</th>\n",
       "      <td>28</td>\n",
       "      <td>42.0</td>\n",
       "      <td>any2ki</td>\n",
       "      <td>129 Sandra Meadows Suite 923\\nEast Jenniferpor...</td>\n",
       "      <td>pending</td>\n",
       "    </tr>\n",
       "    <tr>\n",
       "      <th>420</th>\n",
       "      <td>151</td>\n",
       "      <td>45.0</td>\n",
       "      <td>1ca3sy</td>\n",
       "      <td>12350 Nicholas Greens\\nLawsonborough, NC 70237...</td>\n",
       "      <td>fulfilled</td>\n",
       "    </tr>\n",
       "    <tr>\n",
       "      <th>38</th>\n",
       "      <td>12</td>\n",
       "      <td>45.0</td>\n",
       "      <td>bdzhkd</td>\n",
       "      <td>67636 Renee Islands Suite 307\\nTeresaview, ND ...</td>\n",
       "      <td>pending</td>\n",
       "    </tr>\n",
       "  </tbody>\n",
       "</table>\n",
       "</div>"
      ],
      "text/plain": [
       "      id  orderAmount orderId  \\\n",
       "86    28         42.0  any2ki   \n",
       "420  151         45.0  1ca3sy   \n",
       "38    12         45.0  bdzhkd   \n",
       "\n",
       "                                  orderShippingAddress orderState  \n",
       "86   129 Sandra Meadows Suite 923\\nEast Jenniferpor...    pending  \n",
       "420  12350 Nicholas Greens\\nLawsonborough, NC 70237...  fulfilled  \n",
       "38   67636 Renee Islands Suite 307\\nTeresaview, ND ...    pending  "
      ]
     },
     "execution_count": 5,
     "metadata": {},
     "output_type": "execute_result"
    }
   ],
   "source": [
    "orders.sample(3)"
   ]
  },
  {
   "cell_type": "code",
   "execution_count": 6,
   "metadata": {},
   "outputs": [
    {
     "data": {
      "text/html": [
       "<div>\n",
       "<style scoped>\n",
       "    .dataframe tbody tr th:only-of-type {\n",
       "        vertical-align: middle;\n",
       "    }\n",
       "\n",
       "    .dataframe tbody tr th {\n",
       "        vertical-align: top;\n",
       "    }\n",
       "\n",
       "    .dataframe thead th {\n",
       "        text-align: right;\n",
       "    }\n",
       "</style>\n",
       "<table border=\"1\" class=\"dataframe\">\n",
       "  <thead>\n",
       "    <tr style=\"text-align: right;\">\n",
       "      <th></th>\n",
       "      <th>id</th>\n",
       "      <th>paymentMethodId</th>\n",
       "      <th>paymentMethodIssuer</th>\n",
       "      <th>paymentMethodProvider</th>\n",
       "      <th>paymentMethodRegistrationFailure</th>\n",
       "      <th>paymentMethodType</th>\n",
       "    </tr>\n",
       "  </thead>\n",
       "  <tbody>\n",
       "    <tr>\n",
       "      <th>110</th>\n",
       "      <td>63</td>\n",
       "      <td>l1qil6tjh</td>\n",
       "      <td>Bastion Banks</td>\n",
       "      <td>American Express</td>\n",
       "      <td>False</td>\n",
       "      <td>card</td>\n",
       "    </tr>\n",
       "    <tr>\n",
       "      <th>141</th>\n",
       "      <td>74</td>\n",
       "      <td>p6v42gsjt</td>\n",
       "      <td>Grand Credit Corporation</td>\n",
       "      <td>VISA 16 digit</td>\n",
       "      <td>False</td>\n",
       "      <td>card</td>\n",
       "    </tr>\n",
       "    <tr>\n",
       "      <th>260</th>\n",
       "      <td>123</td>\n",
       "      <td>n1ehjoa66</td>\n",
       "      <td>Rose Bancshares</td>\n",
       "      <td>JCB 15 digit</td>\n",
       "      <td>False</td>\n",
       "      <td>card</td>\n",
       "    </tr>\n",
       "  </tbody>\n",
       "</table>\n",
       "</div>"
      ],
      "text/plain": [
       "      id paymentMethodId       paymentMethodIssuer paymentMethodProvider  \\\n",
       "110   63       l1qil6tjh             Bastion Banks      American Express   \n",
       "141   74       p6v42gsjt  Grand Credit Corporation         VISA 16 digit   \n",
       "260  123       n1ehjoa66           Rose Bancshares          JCB 15 digit   \n",
       "\n",
       "    paymentMethodRegistrationFailure paymentMethodType  \n",
       "110                            False              card  \n",
       "141                            False              card  \n",
       "260                            False              card  "
      ]
     },
     "execution_count": 6,
     "metadata": {},
     "output_type": "execute_result"
    }
   ],
   "source": [
    "payments.sample(3)"
   ]
  },
  {
   "cell_type": "code",
   "execution_count": 7,
   "metadata": {},
   "outputs": [
    {
     "data": {
      "text/html": [
       "<div>\n",
       "<style scoped>\n",
       "    .dataframe tbody tr th:only-of-type {\n",
       "        vertical-align: middle;\n",
       "    }\n",
       "\n",
       "    .dataframe tbody tr th {\n",
       "        vertical-align: top;\n",
       "    }\n",
       "\n",
       "    .dataframe thead th {\n",
       "        text-align: right;\n",
       "    }\n",
       "</style>\n",
       "<table border=\"1\" class=\"dataframe\">\n",
       "  <thead>\n",
       "    <tr style=\"text-align: right;\">\n",
       "      <th></th>\n",
       "      <th>id</th>\n",
       "      <th>orderId</th>\n",
       "      <th>paymentMethodId</th>\n",
       "      <th>transactionAmount</th>\n",
       "      <th>transactionFailed</th>\n",
       "      <th>transactionId</th>\n",
       "    </tr>\n",
       "  </thead>\n",
       "  <tbody>\n",
       "    <tr>\n",
       "      <th>469</th>\n",
       "      <td>131</td>\n",
       "      <td>5m0otl</td>\n",
       "      <td>bdsvwrzwf</td>\n",
       "      <td>33.0</td>\n",
       "      <td>False</td>\n",
       "      <td>6dwhx2bc</td>\n",
       "    </tr>\n",
       "    <tr>\n",
       "      <th>499</th>\n",
       "      <td>141</td>\n",
       "      <td>hnt2yf</td>\n",
       "      <td>xrqpqnjba</td>\n",
       "      <td>17.0</td>\n",
       "      <td>False</td>\n",
       "      <td>d4oenk4o</td>\n",
       "    </tr>\n",
       "    <tr>\n",
       "      <th>483</th>\n",
       "      <td>136</td>\n",
       "      <td>dzj9zm</td>\n",
       "      <td>5tyvyueom</td>\n",
       "      <td>45.0</td>\n",
       "      <td>False</td>\n",
       "      <td>d27dmlyt</td>\n",
       "    </tr>\n",
       "  </tbody>\n",
       "</table>\n",
       "</div>"
      ],
      "text/plain": [
       "      id orderId paymentMethodId  transactionAmount transactionFailed  \\\n",
       "469  131  5m0otl       bdsvwrzwf               33.0             False   \n",
       "499  141  hnt2yf       xrqpqnjba               17.0             False   \n",
       "483  136  dzj9zm       5tyvyueom               45.0             False   \n",
       "\n",
       "    transactionId  \n",
       "469      6dwhx2bc  \n",
       "499      d4oenk4o  \n",
       "483      d27dmlyt  "
      ]
     },
     "execution_count": 7,
     "metadata": {},
     "output_type": "execute_result"
    }
   ],
   "source": [
    "transactions.sample(3)"
   ]
  },
  {
   "cell_type": "markdown",
   "metadata": {},
   "source": [
    "# 2. Features preparation"
   ]
  },
  {
   "cell_type": "markdown",
   "metadata": {},
   "source": [
    "#### DataFrame to store features"
   ]
  },
  {
   "cell_type": "code",
   "execution_count": 8,
   "metadata": {},
   "outputs": [],
   "source": [
    "df = customers[['id', 'fraudulent']].copy()\n",
    "df.set_index('id', inplace=True)"
   ]
  },
  {
   "cell_type": "markdown",
   "metadata": {},
   "source": [
    "## Table 'customers'"
   ]
  },
  {
   "cell_type": "markdown",
   "metadata": {},
   "source": [
    "#### Shape"
   ]
  },
  {
   "cell_type": "code",
   "execution_count": 9,
   "metadata": {},
   "outputs": [
    {
     "data": {
      "text/plain": [
       "(168, 7)"
      ]
     },
     "execution_count": 9,
     "metadata": {},
     "output_type": "execute_result"
    }
   ],
   "source": [
    "customers.shape"
   ]
  },
  {
   "cell_type": "markdown",
   "metadata": {},
   "source": [
    "#### Empty records"
   ]
  },
  {
   "cell_type": "code",
   "execution_count": 10,
   "metadata": {},
   "outputs": [
    {
     "data": {
      "text/html": [
       "<div>\n",
       "<style scoped>\n",
       "    .dataframe tbody tr th:only-of-type {\n",
       "        vertical-align: middle;\n",
       "    }\n",
       "\n",
       "    .dataframe tbody tr th {\n",
       "        vertical-align: top;\n",
       "    }\n",
       "\n",
       "    .dataframe thead th {\n",
       "        text-align: right;\n",
       "    }\n",
       "</style>\n",
       "<table border=\"1\" class=\"dataframe\">\n",
       "  <thead>\n",
       "    <tr style=\"text-align: right;\">\n",
       "      <th></th>\n",
       "      <th>customerBillingAddress</th>\n",
       "      <th>customerDevice</th>\n",
       "      <th>customerEmail</th>\n",
       "      <th>customerIPAddress</th>\n",
       "      <th>customerPhone</th>\n",
       "      <th>fraudulent</th>\n",
       "      <th>id</th>\n",
       "    </tr>\n",
       "  </thead>\n",
       "  <tbody>\n",
       "  </tbody>\n",
       "</table>\n",
       "</div>"
      ],
      "text/plain": [
       "Empty DataFrame\n",
       "Columns: [customerBillingAddress, customerDevice, customerEmail, customerIPAddress, customerPhone, fraudulent, id]\n",
       "Index: []"
      ]
     },
     "execution_count": 10,
     "metadata": {},
     "output_type": "execute_result"
    }
   ],
   "source": [
    "customers[customers.isna().any(axis=1)]"
   ]
  },
  {
   "cell_type": "markdown",
   "metadata": {},
   "source": [
    "#### Unique column values"
   ]
  },
  {
   "cell_type": "code",
   "execution_count": 11,
   "metadata": {},
   "outputs": [
    {
     "data": {
      "text/plain": [
       "customerBillingAddress    166\n",
       "customerDevice            168\n",
       "customerEmail             161\n",
       "customerIPAddress         165\n",
       "customerPhone             168\n",
       "fraudulent                  2\n",
       "id                        168\n",
       "dtype: int64"
      ]
     },
     "execution_count": 11,
     "metadata": {},
     "output_type": "execute_result"
    }
   ],
   "source": [
    "customers.nunique()"
   ]
  },
  {
   "cell_type": "markdown",
   "metadata": {},
   "source": [
    "### Observation: there are users with the same billing, email or IP address as others"
   ]
  },
  {
   "cell_type": "code",
   "execution_count": 12,
   "metadata": {
    "scrolled": true
   },
   "outputs": [],
   "source": [
    "emails = pd.DataFrame(customers.customerEmail.str.split('@').tolist(), columns=[\"username\", \"domain\"])\n",
    "\n",
    "df['u_duplicated_billingAddress'] = customers.customerBillingAddress.duplicated().astype(int)\n",
    "df['u_duplicated_ip'] = customers.customerIPAddress.duplicated().astype(int)\n",
    "\n",
    "# let's check if username is unique, not the whole email address\n",
    "# because emails with the same username from different domains are suspect\n",
    "# e.g: johnsmith@gmail.com | johnsmith@hotmail.com | johnsmith@yahoo.com\n",
    "df['u_duplicated_email_username'] = emails.username.duplicated().astype(int)\n",
    "# also lets check how many users use the same domain -  less frequent domains can indicate suspect accounts\n",
    "df['u_customers_under_domain'] = emails.groupby('domain')['domain'].transform('size')"
   ]
  },
  {
   "cell_type": "markdown",
   "metadata": {},
   "source": [
    "### Observation: some emila addresses are invalid (domain without dot, e.g: \"9es7t@u6n7x \t\")"
   ]
  },
  {
   "cell_type": "code",
   "execution_count": 13,
   "metadata": {},
   "outputs": [],
   "source": [
    "df['u_email_valid'] = customers.customerEmail.str.contains('[^@]+@[^@]+\\.[^@]+').astype(int)"
   ]
  },
  {
   "cell_type": "markdown",
   "metadata": {},
   "source": [
    "## Table 'orders'"
   ]
  },
  {
   "cell_type": "markdown",
   "metadata": {},
   "source": [
    "#### Table shape"
   ]
  },
  {
   "cell_type": "code",
   "execution_count": 14,
   "metadata": {
    "scrolled": true
   },
   "outputs": [
    {
     "data": {
      "text/plain": [
       "(478, 5)"
      ]
     },
     "execution_count": 14,
     "metadata": {},
     "output_type": "execute_result"
    }
   ],
   "source": [
    "orders.shape"
   ]
  },
  {
   "cell_type": "markdown",
   "metadata": {},
   "source": [
    "#### Empty records"
   ]
  },
  {
   "cell_type": "code",
   "execution_count": 15,
   "metadata": {},
   "outputs": [
    {
     "data": {
      "text/html": [
       "<div>\n",
       "<style scoped>\n",
       "    .dataframe tbody tr th:only-of-type {\n",
       "        vertical-align: middle;\n",
       "    }\n",
       "\n",
       "    .dataframe tbody tr th {\n",
       "        vertical-align: top;\n",
       "    }\n",
       "\n",
       "    .dataframe thead th {\n",
       "        text-align: right;\n",
       "    }\n",
       "</style>\n",
       "<table border=\"1\" class=\"dataframe\">\n",
       "  <thead>\n",
       "    <tr style=\"text-align: right;\">\n",
       "      <th></th>\n",
       "      <th>id</th>\n",
       "      <th>orderAmount</th>\n",
       "      <th>orderId</th>\n",
       "      <th>orderShippingAddress</th>\n",
       "      <th>orderState</th>\n",
       "    </tr>\n",
       "  </thead>\n",
       "  <tbody>\n",
       "  </tbody>\n",
       "</table>\n",
       "</div>"
      ],
      "text/plain": [
       "Empty DataFrame\n",
       "Columns: [id, orderAmount, orderId, orderShippingAddress, orderState]\n",
       "Index: []"
      ]
     },
     "execution_count": 15,
     "metadata": {},
     "output_type": "execute_result"
    }
   ],
   "source": [
    "orders[orders.isna().any(axis=1)]"
   ]
  },
  {
   "cell_type": "markdown",
   "metadata": {},
   "source": [
    "#### Unique column values"
   ]
  },
  {
   "cell_type": "code",
   "execution_count": 16,
   "metadata": {},
   "outputs": [
    {
     "data": {
      "text/plain": [
       "id                      141\n",
       "orderAmount              67\n",
       "orderId                 478\n",
       "orderShippingAddress    274\n",
       "orderState                3\n",
       "dtype: int64"
      ]
     },
     "execution_count": 16,
     "metadata": {},
     "output_type": "execute_result"
    }
   ],
   "source": [
    "orders.nunique()"
   ]
  },
  {
   "cell_type": "markdown",
   "metadata": {},
   "source": [
    "### Observation: not all customers make order"
   ]
  },
  {
   "cell_type": "code",
   "execution_count": 17,
   "metadata": {},
   "outputs": [],
   "source": [
    "m_orders = pd.merge(customers, orders, on='id', how='left')"
   ]
  },
  {
   "cell_type": "code",
   "execution_count": 18,
   "metadata": {},
   "outputs": [],
   "source": [
    "# basic data about customer orders\n",
    "df['o_total_orders'] = m_orders.groupby('id')['orderId'].count()\n",
    "df['o_total_amount'] = m_orders.groupby('id')['orderAmount'].sum()\n",
    "df['o_avg_amount'] = m_orders.groupby('id')['orderAmount'].mean().fillna(0)"
   ]
  },
  {
   "cell_type": "markdown",
   "metadata": {},
   "source": [
    "### Observation: there are 3 states of order"
   ]
  },
  {
   "cell_type": "code",
   "execution_count": 19,
   "metadata": {},
   "outputs": [],
   "source": [
    "df[['o_failed', 'o_fulfilled', 'o_pending']] = \\\n",
    "    m_orders.groupby('id')['orderState'].value_counts(dropna=False)\\\n",
    "    .unstack(fill_value=0)[['failed', 'fulfilled', 'pending']]"
   ]
  },
  {
   "cell_type": "markdown",
   "metadata": {},
   "source": [
    "### Observation: there are more unique shipping adresses that customers"
   ]
  },
  {
   "cell_type": "markdown",
   "metadata": {},
   "source": [
    "#### in this step we will check whether: <br> - shipping address is the same as billing<br> - shipping adress is the same as other customer billing address <br> - there is the same shipping address for two (or more) different customers"
   ]
  },
  {
   "cell_type": "code",
   "execution_count": 20,
   "metadata": {
    "scrolled": true
   },
   "outputs": [],
   "source": [
    "diff_address = m_orders[m_orders.customerBillingAddress != m_orders.orderShippingAddress]\n",
    "uniqe_adresses = m_orders[['id', 'orderShippingAddress']].drop_duplicates().dropna()\n",
    "\n",
    "# shipping address is not the same as billing\n",
    "df['adr_diff_billing_shipping'] = 0\n",
    "df.loc[df.index.isin(diff_address.id), 'adr_diff_billing_shipping'] = 1\n",
    "\n",
    "# shipping address is the same as other customer billing address\n",
    "df['adr_shipping_match_else_billing'] = 0\n",
    "df.loc[df.index.isin(diff_address[diff_address.orderShippingAddress.isin(m_orders.customerBillingAddress)].id), 'adr_shipping_match_else_billing'] = 1\n",
    "\n",
    "# shipping address occurs as shipping address of another customer\n",
    "df['adr_shipping_math_else_shipping'] = 0\n",
    "df.loc[df.index.isin(uniqe_adresses[uniqe_adresses.orderShippingAddress.duplicated()].id), 'adr_shipping_math_else_shipping'] = 1"
   ]
  },
  {
   "cell_type": "markdown",
   "metadata": {},
   "source": [
    "#### Histogram of orders' amount"
   ]
  },
  {
   "cell_type": "code",
   "execution_count": 21,
   "metadata": {},
   "outputs": [
    {
     "data": {
      "image/png": "[encoded data removed]",
      "text/plain": [
       "<Figure size 432x288 with 1 Axes>"
      ]
     },
     "metadata": {},
     "output_type": "display_data"
    }
   ],
   "source": [
    "step = 15\n",
    "plt.hist([m_orders[m_orders.fraudulent].orderAmount, \n",
    "          m_orders[~m_orders.fraudulent].orderAmount], \n",
    "         color=['r','g'], \n",
    "         bins=range(0, int(m_orders.orderAmount.max())+step, step))\n",
    "plt.show()"
   ]
  },
  {
   "cell_type": "markdown",
   "metadata": {},
   "source": [
    "### Observation: there is a suspect oderd which amount much greather that other orders (>350)"
   ]
  },
  {
   "cell_type": "code",
   "execution_count": 22,
   "metadata": {},
   "outputs": [],
   "source": [
    "df['o_enormous_amount'] = (m_orders.groupby('id')['orderAmount'].max() > m_orders.orderAmount.quantile(0.999)).astype(int)"
   ]
  },
  {
   "cell_type": "markdown",
   "metadata": {},
   "source": [
    "### let's groupy order by value to assign to bins"
   ]
  },
  {
   "cell_type": "code",
   "execution_count": 23,
   "metadata": {},
   "outputs": [],
   "source": [
    "bins = [0, 20, 40, 50, 60, 80, 100]\n",
    "temp = m_orders.groupby(['id', pd.cut(m_orders.orderAmount, \n",
    "                                      bins=bins, \n",
    "                                      labels=[\"o_amount_bin{}\".format(i) for i in bins[1:]])]\n",
    "                       ).size().unstack()\n",
    "df = df.merge(temp, left_index=True, right_index=True).fillna(0)"
   ]
  },
  {
   "cell_type": "markdown",
   "metadata": {},
   "source": [
    "## Table paymentMethod"
   ]
  },
  {
   "cell_type": "markdown",
   "metadata": {},
   "source": [
    "#### Table shape"
   ]
  },
  {
   "cell_type": "code",
   "execution_count": 24,
   "metadata": {},
   "outputs": [
    {
     "data": {
      "text/plain": [
       "(342, 6)"
      ]
     },
     "execution_count": 24,
     "metadata": {},
     "output_type": "execute_result"
    }
   ],
   "source": [
    "payments.shape"
   ]
  },
  {
   "cell_type": "markdown",
   "metadata": {},
   "source": [
    "#### Empty records"
   ]
  },
  {
   "cell_type": "code",
   "execution_count": 25,
   "metadata": {},
   "outputs": [
    {
     "data": {
      "text/html": [
       "<div>\n",
       "<style scoped>\n",
       "    .dataframe tbody tr th:only-of-type {\n",
       "        vertical-align: middle;\n",
       "    }\n",
       "\n",
       "    .dataframe tbody tr th {\n",
       "        vertical-align: top;\n",
       "    }\n",
       "\n",
       "    .dataframe thead th {\n",
       "        text-align: right;\n",
       "    }\n",
       "</style>\n",
       "<table border=\"1\" class=\"dataframe\">\n",
       "  <thead>\n",
       "    <tr style=\"text-align: right;\">\n",
       "      <th></th>\n",
       "      <th>id</th>\n",
       "      <th>paymentMethodId</th>\n",
       "      <th>paymentMethodIssuer</th>\n",
       "      <th>paymentMethodProvider</th>\n",
       "      <th>paymentMethodRegistrationFailure</th>\n",
       "      <th>paymentMethodType</th>\n",
       "    </tr>\n",
       "  </thead>\n",
       "  <tbody>\n",
       "  </tbody>\n",
       "</table>\n",
       "</div>"
      ],
      "text/plain": [
       "Empty DataFrame\n",
       "Columns: [id, paymentMethodId, paymentMethodIssuer, paymentMethodProvider, paymentMethodRegistrationFailure, paymentMethodType]\n",
       "Index: []"
      ]
     },
     "execution_count": 25,
     "metadata": {},
     "output_type": "execute_result"
    }
   ],
   "source": [
    "payments[payments.isna().any(axis=1)]"
   ]
  },
  {
   "cell_type": "markdown",
   "metadata": {},
   "source": [
    "#### Unique column values"
   ]
  },
  {
   "cell_type": "code",
   "execution_count": 26,
   "metadata": {},
   "outputs": [
    {
     "data": {
      "text/plain": [
       "id                                  156\n",
       "paymentMethodId                     342\n",
       "paymentMethodIssuer                  20\n",
       "paymentMethodProvider                10\n",
       "paymentMethodRegistrationFailure      2\n",
       "paymentMethodType                     4\n",
       "dtype: int64"
      ]
     },
     "execution_count": 26,
     "metadata": {},
     "output_type": "execute_result"
    }
   ],
   "source": [
    "payments.nunique()"
   ]
  },
  {
   "cell_type": "markdown",
   "metadata": {},
   "source": [
    "#### Values in colum 'Issuer', 'Provider' and 'Type'"
   ]
  },
  {
   "cell_type": "code",
   "execution_count": 27,
   "metadata": {},
   "outputs": [
    {
     "name": "stdout",
     "output_type": "stream",
     "text": [
      "paymentMethodIssuer : ['Citizens First Banks' 'Solace Banks' 'Vertex Bancorp'\n",
      " 'His Majesty Bank Corp.' 'Bastion Banks' 'Her Majesty Trust'\n",
      " 'Fountain Financial Inc.' 'Grand Credit Corporation' 'B' 'p' 'x' 'e'\n",
      " 'Bulwark Trust Corp.' 'c' 'a' 'Rose Bancshares' ' ' 'r' 'n' 'o'] \n",
      "\n",
      "paymentMethodProvider : ['JCB 16 digit' 'VISA 16 digit' 'Diners Club / Carte Blanche' 'Mastercard'\n",
      " 'American Express' 'Maestro' 'Discover' 'Voyager' 'VISA 13 digit'\n",
      " 'JCB 15 digit'] \n",
      "\n",
      "paymentMethodType : ['card' 'bitcoin' 'apple pay' 'paypal'] \n",
      "\n"
     ]
    }
   ],
   "source": [
    "for col in ['paymentMethodIssuer', 'paymentMethodProvider', 'paymentMethodType']:\n",
    "    print(col, \":\", payments[col].unique(), \"\\n\")"
   ]
  },
  {
   "cell_type": "code",
   "execution_count": 28,
   "metadata": {},
   "outputs": [],
   "source": [
    "m_payments = pd.merge(customers, payments, on='id', how='left')"
   ]
  },
  {
   "cell_type": "markdown",
   "metadata": {},
   "source": [
    "### Observation: customers have assigned many payment methods. There are 4 types, 10 providers and 20 issuers. Some Issuers seems suspect - thier names are single characters"
   ]
  },
  {
   "cell_type": "code",
   "execution_count": 29,
   "metadata": {},
   "outputs": [],
   "source": [
    "df['p_total_methods'] = m_payments.groupby('id')['paymentMethodId'].count()\n",
    "\n",
    "df = df.merge(\n",
    "    m_payments.groupby('id')['paymentMethodType'].value_counts(dropna=False)\\\n",
    "        .unstack(fill_value=0)\\\n",
    "        .reset_index()\\\n",
    "        .add_prefix('p_method_')\\\n",
    "        .iloc[:,2:],\n",
    "    how='left', left_index=True, right_index=True)\n",
    "\n",
    "df['p_number_registration_failures'] = m_payments.groupby('id')['paymentMethodRegistrationFailure'].sum().astype(int)\n",
    "df['p_unique_issuers'] = m_payments.groupby('id')['paymentMethodIssuer'].nunique()\n",
    "df['p_unique_providers'] = m_payments.groupby('id')['paymentMethodProvider'].nunique()\n",
    "\n",
    "df['p_all_issuers_valid'] = m_payments.groupby('id')['paymentMethodIssuer'].apply(lambda x: x.str.len().min() != 1).astype(int)"
   ]
  },
  {
   "cell_type": "markdown",
   "metadata": {},
   "source": [
    "### Table 'transactions'"
   ]
  },
  {
   "cell_type": "markdown",
   "metadata": {},
   "source": [
    "#### Table shape"
   ]
  },
  {
   "cell_type": "code",
   "execution_count": 30,
   "metadata": {},
   "outputs": [
    {
     "data": {
      "text/plain": [
       "(623, 6)"
      ]
     },
     "execution_count": 30,
     "metadata": {},
     "output_type": "execute_result"
    }
   ],
   "source": [
    "transactions.shape"
   ]
  },
  {
   "cell_type": "markdown",
   "metadata": {},
   "source": [
    "#### Empty records"
   ]
  },
  {
   "cell_type": "code",
   "execution_count": 31,
   "metadata": {},
   "outputs": [
    {
     "data": {
      "text/html": [
       "<div>\n",
       "<style scoped>\n",
       "    .dataframe tbody tr th:only-of-type {\n",
       "        vertical-align: middle;\n",
       "    }\n",
       "\n",
       "    .dataframe tbody tr th {\n",
       "        vertical-align: top;\n",
       "    }\n",
       "\n",
       "    .dataframe thead th {\n",
       "        text-align: right;\n",
       "    }\n",
       "</style>\n",
       "<table border=\"1\" class=\"dataframe\">\n",
       "  <thead>\n",
       "    <tr style=\"text-align: right;\">\n",
       "      <th></th>\n",
       "      <th>id</th>\n",
       "      <th>orderId</th>\n",
       "      <th>paymentMethodId</th>\n",
       "      <th>transactionAmount</th>\n",
       "      <th>transactionFailed</th>\n",
       "      <th>transactionId</th>\n",
       "    </tr>\n",
       "  </thead>\n",
       "  <tbody>\n",
       "  </tbody>\n",
       "</table>\n",
       "</div>"
      ],
      "text/plain": [
       "Empty DataFrame\n",
       "Columns: [id, orderId, paymentMethodId, transactionAmount, transactionFailed, transactionId]\n",
       "Index: []"
      ]
     },
     "execution_count": 31,
     "metadata": {},
     "output_type": "execute_result"
    }
   ],
   "source": [
    "transactions[transactions.isna().any(axis=1)]"
   ]
  },
  {
   "cell_type": "code",
   "execution_count": 32,
   "metadata": {},
   "outputs": [
    {
     "data": {
      "text/plain": [
       "id                   141\n",
       "orderId              478\n",
       "paymentMethodId      237\n",
       "transactionAmount     67\n",
       "transactionFailed      2\n",
       "transactionId        623\n",
       "dtype: int64"
      ]
     },
     "execution_count": 32,
     "metadata": {},
     "output_type": "execute_result"
    }
   ],
   "source": [
    "transactions.nunique()"
   ]
  },
  {
   "cell_type": "markdown",
   "metadata": {},
   "source": [
    "### Observation: not all customers have at least one transaction, all orders have at least one transaction"
   ]
  },
  {
   "cell_type": "code",
   "execution_count": 33,
   "metadata": {},
   "outputs": [],
   "source": [
    "m_trans = pd.merge(customers, transactions, how='left', on='id')"
   ]
  },
  {
   "cell_type": "markdown",
   "metadata": {},
   "source": [
    "### Basic stats"
   ]
  },
  {
   "cell_type": "code",
   "execution_count": 34,
   "metadata": {},
   "outputs": [],
   "source": [
    "df['t_total_transactions'] = m_trans.groupby('id')['transactionId'].count()\n",
    "df[['t_total_passed', 't_total_failed']] = m_trans.groupby('id')['transactionFailed'].value_counts(dropna=False).unstack(fill_value=0).iloc[:,-2:]\n",
    "df[['t_amount_passed', 't_amount_failed']] = m_trans.fillna(0).groupby(['id', 'transactionFailed'])['transactionAmount'].sum().unstack(fill_value=0).iloc[:,-2:]"
   ]
  },
  {
   "cell_type": "markdown",
   "metadata": {},
   "source": [
    "### Let's add feature - number of transaction with amount different  that order amount. Such difference clearly indicate fraud"
   ]
  },
  {
   "cell_type": "code",
   "execution_count": 35,
   "metadata": {},
   "outputs": [],
   "source": [
    "df['t_diff_trans_order_amount'] = pd.merge(transactions[['id','transactionAmount', 'orderId']], orders[['id', 'orderId', 'orderAmount']], how='outer').groupby('id').apply(lambda x: (x.transactionAmount!=x.orderAmount).sum())\n",
    "df['t_diff_trans_order_amount'].fillna(0, inplace=True)"
   ]
  },
  {
   "cell_type": "markdown",
   "metadata": {},
   "source": [
    "### Orders with all transactions were rejected shoudn't have \"fulfilled\" state."
   ]
  },
  {
   "cell_type": "code",
   "execution_count": 36,
   "metadata": {},
   "outputs": [],
   "source": [
    "s = ~transactions.groupby('orderId')['transactionFailed'].all().astype(bool)\n",
    "unpaid_orders = s[s == False].index\n",
    "\n",
    "\n",
    "df['t_unpaid_orders'] = m_orders[m_orders.orderId.isin(unpaid_orders)].groupby('id')['orderId'].count()\n",
    "df['t_unpaid_orders'].fillna(0, inplace=True)\n",
    "\n",
    "df['t_unpaid_fulfilled_orders'] = m_orders[m_orders.orderId.isin(unpaid_orders) & (m_orders.orderState=='fulfilled')].groupby('id')['orderId'].count()\n",
    "df['t_unpaid_fulfilled_orders'].fillna(0, inplace=True)"
   ]
  },
  {
   "cell_type": "markdown",
   "metadata": {},
   "source": [
    "## Description of all features"
   ]
  },
  {
   "cell_type": "markdown",
   "metadata": {},
   "source": [
    " - **`u_duplicated_billingAddress`** - indicates whether the billing address is the same as another customer's\n",
    " - **`u_duplicated_ip`** - indicates whether IP address is the same as another customer's\n",
    " - **`u_duplicated_email_username`** - indicates whether username of email address (before @) is the same as another customer's\n",
    " - **`u_customers_under_domain`** - how many customers use the same domain in the email address\n",
    " - **`u_email_valid`** - indicates whether the email address is correct (domain without a dot)\n",
    " - **`o_total_orders`** - number of all orders for each customer\n",
    " - **`o_total_amount`** - total amount of all orders for each customer\n",
    " - **`o_avg_amount`** - average value of customer orders\n",
    " - **`o_failed`** - number of failed orders for each customer\n",
    " - **`o_fulfilled`** - number of completed orders for each customer\n",
    " - **`o_pending`** - number of pending orders \n",
    " - **`adr_diff_billing_shipping`** - indicates whether customer has ever chosen shipping address different than billing address\n",
    " - **`adr_shipping_match_else_billing`** - indicates whether customer has ever chosen shipping address the same as another customer's billing address\n",
    " - **`adr_shipping_math_else_shipping`** - indicates whether customer has ever chosen shipping address as another customer\n",
    " - **`o_enormous_amount`** - indicates whether customer make order with value above 999-th percentile\n",
    " - **`o_amount_bin20`** - number of orders below amount: 20\n",
    " - **`o_amount_bin40`** - number of orders below amount: 40\n",
    " - **`o_amount_bin50`** - number of orders below amount: 50\n",
    " - **`o_amount_bin60`** - number of orders below amount: 60\n",
    " - **`o_amount_bin80`** - number of orders below amount: 80\n",
    " - **`p_total_methods`** - number of payment methods assigned to the customer\n",
    " - **`p_method_apple pay`** - how many payment methods are 'apple pay'\n",
    " - **`p_method_bitcoin`** -  how many payment methods are 'bitcoin'\n",
    " - **`p_method_card`** -  how many payment methods are credit card\n",
    " - **`p_method_paypal`** -  how many payment methods are 'paypal'\n",
    " - **`p_number_registration_failures`** - how many times there was an error for registering payment method for the customer\n",
    " - **`p_unique_issuers`** - number of unique issuers of customer payment methods\n",
    " - **`p_unique_providers`** - number of unique providers of customer payment methods\n",
    " - **`p_all_issuers_valid`** - indicates whether the customer has assigned payment method with invalid issuer (single-character name)\n",
    " - **`t_total_transactions`** - number of all transactions\n",
    " - **`t_total_passed`** - number of passed transactions\n",
    " - **`t_total_failed`** - number of failed transactions\n",
    " - **`t_amount_passed`** - total value of passed transactions\n",
    " - **`t_amount_failed`** - total value of failed transactions\n",
    " - **`t_diff_trans_order_amount`** - nubmer of transactions with different value than order value\n",
    " - **`t_unpaid_orders`** - number of orders for which all transactions failed\n",
    " - **`t_unpaid_fulfilled_orders`** - number of order for which all transaction failed but order is fulfilled"
   ]
  },
  {
   "cell_type": "markdown",
   "metadata": {},
   "source": [
    "# 3. The model"
   ]
  },
  {
   "cell_type": "code",
   "execution_count": 37,
   "metadata": {},
   "outputs": [],
   "source": [
    "rand_state = 1723\n",
    "\n",
    "y = df.values[:, 0].tolist()\n",
    "X = df.values[:, 1:].tolist()\n",
    "\n",
    "X_train, X_test, y_train, y_test = train_test_split(X, y, test_size=0.15, random_state=rand_state)"
   ]
  },
  {
   "cell_type": "code",
   "execution_count": 38,
   "metadata": {},
   "outputs": [
    {
     "data": {
      "text/plain": [
       "RandomForestClassifier(bootstrap=True, class_weight=None, criterion='gini',\n",
       "                       max_depth=30, max_features='auto', max_leaf_nodes=None,\n",
       "                       min_impurity_decrease=0.0, min_impurity_split=None,\n",
       "                       min_samples_leaf=1, min_samples_split=2,\n",
       "                       min_weight_fraction_leaf=0.0, n_estimators=1000,\n",
       "                       n_jobs=None, oob_score=False, random_state=1723,\n",
       "                       verbose=0, warm_start=False)"
      ]
     },
     "execution_count": 38,
     "metadata": {},
     "output_type": "execute_result"
    }
   ],
   "source": [
    "rfc = RandomForestClassifier(max_depth=30, n_estimators=1000, random_state=rand_state)\n",
    "rfc.fit(X_train, y_train)"
   ]
  },
  {
   "cell_type": "markdown",
   "metadata": {},
   "source": [
    "### Model mean accuracy (test data)"
   ]
  },
  {
   "cell_type": "code",
   "execution_count": 39,
   "metadata": {
    "scrolled": true
   },
   "outputs": [
    {
     "data": {
      "text/plain": [
       "0.9523809523809523"
      ]
     },
     "execution_count": 39,
     "metadata": {},
     "output_type": "execute_result"
    }
   ],
   "source": [
    "rfc.score(X_test, y_test)"
   ]
  },
  {
   "cell_type": "markdown",
   "metadata": {},
   "source": [
    "### Confusion matrix"
   ]
  },
  {
   "cell_type": "code",
   "execution_count": 40,
   "metadata": {},
   "outputs": [
    {
     "name": "stdout",
     "output_type": "stream",
     "text": [
      "true negative: 57.14%\n",
      "true positive: 38.10%\n",
      "false negative: 4.76%\n",
      "false positive: 0.00%\n",
      "\n",
      "sensitivity: 88.89%\n",
      "miss rate: 11.11%\n"
     ]
    }
   ],
   "source": [
    "tn, fp, fn, tp = \\\n",
    "(confusion_matrix(y_test, rfc.predict(X_test))/len(y_test)).ravel()\n",
    "\n",
    "print(\"true negative: {:.2%}\\ntrue positive: {:.2%}\\nfalse negative: {:.2%}\\nfalse positive: {:.2%}\\n\".format(tn, tp, fn, fp))\n",
    "\n",
    "print(\"sensitivity: {:.2%}\".format(tp/(tp+fn)))\n",
    "print(\"miss rate: {:.2%}\".format(fn/(fn+tp)))"
   ]
  },
  {
   "cell_type": "markdown",
   "metadata": {},
   "source": [
    "# Visualisation"
   ]
  },
  {
   "cell_type": "markdown",
   "metadata": {},
   "source": [
    "## Features contribution / importance"
   ]
  },
  {
   "cell_type": "code",
   "execution_count": 41,
   "metadata": {},
   "outputs": [
    {
     "data": {
      "image/png": "[encoded data removed]",
      "text/plain": [
       "<Figure size 1080x360 with 1 Axes>"
      ]
     },
     "metadata": {},
     "output_type": "display_data"
    }
   ],
   "source": [
    "importance = pd.Series(rfc.feature_importances_, index=df.columns[1:]).sort_values(ascending=False)\n",
    "\n",
    "ax = importance.plot(figsize=(15, 5), \n",
    "                     kind='bar', \n",
    "                     color=cm.get_cmap('jet')\n",
    "                         (Normalize(vmin=importance.min(), vmax=importance.max())\n",
    "                         (importance.values)),\n",
    "                     ylim=(0, importance.max()*1.2)\n",
    "                     )\n",
    "for l in range(importance.size):\n",
    "    ax.text(l-0.2, importance.iloc[l]+0.02, \"{:.2%}\".format(importance.iloc[l]), rotation=90)\n",
    "\n",
    "plt.title('Features importance')\n",
    "plt.xlabel('Feature')\n",
    "plt.ylabel('Relative importance')\n",
    "plt.show()"
   ]
  },
  {
   "cell_type": "markdown",
   "metadata": {},
   "source": [
    "## Single sample decision tree"
   ]
  },
  {
   "cell_type": "markdown",
   "metadata": {},
   "source": [
    "Due to the required additional software (graphviz) to visualize the tree in graphic form, it was decided to have a textual representation"
   ]
  },
  {
   "cell_type": "code",
   "execution_count": 42,
   "metadata": {
    "scrolled": false
   },
   "outputs": [
    {
     "name": "stdout",
     "output_type": "stream",
     "text": [
      "|--- o_total_orders <= 5.50\n",
      "|   |--- p_method_bitcoin <= 1.50\n",
      "|   |   |--- p_all_issuers_valid <= 0.50\n",
      "|   |   |   |--- class: 1.0\n",
      "|   |   |--- p_all_issuers_valid >  0.50\n",
      "|   |   |   |--- o_avg_amount <= 45.50\n",
      "|   |   |   |   |--- o_failed <= 1.50\n",
      "|   |   |   |   |   |--- u_duplicated_billingAddress <= 0.50\n",
      "|   |   |   |   |   |   |--- o_total_amount <= 19.50\n",
      "|   |   |   |   |   |   |   |--- p_total_methods <= 2.00\n",
      "|   |   |   |   |   |   |   |   |--- t_amount_failed <= 8.00\n",
      "|   |   |   |   |   |   |   |   |   |--- class: 0.0\n",
      "|   |   |   |   |   |   |   |   |--- t_amount_failed >  8.00\n",
      "|   |   |   |   |   |   |   |   |   |--- class: 1.0\n",
      "|   |   |   |   |   |   |   |--- p_total_methods >  2.00\n",
      "|   |   |   |   |   |   |   |   |--- class: 0.0\n",
      "|   |   |   |   |   |   |--- o_total_amount >  19.50\n",
      "|   |   |   |   |   |   |   |--- u_duplicated_email_username <= 0.50\n",
      "|   |   |   |   |   |   |   |   |--- o_avg_amount <= 37.88\n",
      "|   |   |   |   |   |   |   |   |   |--- o_amount_bin40 <= 0.50\n",
      "|   |   |   |   |   |   |   |   |   |   |--- t_amount_failed <= 48.50\n",
      "|   |   |   |   |   |   |   |   |   |   |   |--- class: 0.0\n",
      "|   |   |   |   |   |   |   |   |   |   |--- t_amount_failed >  48.50\n",
      "|   |   |   |   |   |   |   |   |   |   |   |--- class: 1.0\n",
      "|   |   |   |   |   |   |   |   |   |--- o_amount_bin40 >  0.50\n",
      "|   |   |   |   |   |   |   |   |   |   |--- class: 0.0\n",
      "|   |   |   |   |   |   |   |   |--- o_avg_amount >  37.88\n",
      "|   |   |   |   |   |   |   |   |   |--- t_total_passed <= 3.50\n",
      "|   |   |   |   |   |   |   |   |   |   |--- class: 0.0\n",
      "|   |   |   |   |   |   |   |   |   |--- t_total_passed >  3.50\n",
      "|   |   |   |   |   |   |   |   |   |   |--- class: 1.0\n",
      "|   |   |   |   |   |   |   |--- u_duplicated_email_username >  0.50\n",
      "|   |   |   |   |   |   |   |   |--- class: 1.0\n",
      "|   |   |   |   |   |--- u_duplicated_billingAddress >  0.50\n",
      "|   |   |   |   |   |   |--- class: 1.0\n",
      "|   |   |   |   |--- o_failed >  1.50\n",
      "|   |   |   |   |   |--- o_fulfilled <= 2.50\n",
      "|   |   |   |   |   |   |--- class: 0.0\n",
      "|   |   |   |   |   |--- o_fulfilled >  2.50\n",
      "|   |   |   |   |   |   |--- class: 1.0\n",
      "|   |   |   |--- o_avg_amount >  45.50\n",
      "|   |   |   |   |--- class: 1.0\n",
      "|   |--- p_method_bitcoin >  1.50\n",
      "|   |   |--- class: 1.0\n",
      "|--- o_total_orders >  5.50\n",
      "|   |--- class: 1.0\n",
      "\n"
     ]
    }
   ],
   "source": [
    "tree_str = export_text(rfc.estimators_[rand_state%rfc.n_estimators], feature_names=list(df.columns[1:]))\n",
    "print(tree_str)"
   ]
  }
 ],
 "metadata": {
  "kernelspec": {
   "display_name": "Python 3",
   "language": "python",
   "name": "python3"
  },
  "language_info": {
   "codemirror_mode": {
    "name": "ipython",
    "version": 3
   },
   "file_extension": ".py",
   "mimetype": "text/x-python",
   "name": "python",
   "nbconvert_exporter": "python",
   "pygments_lexer": "ipython3",
   "version": "3.6.9"
  }
 },
 "nbformat": 4,
 "nbformat_minor": 2
}
